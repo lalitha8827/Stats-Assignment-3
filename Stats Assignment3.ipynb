{
 "cells": [
  {
   "cell_type": "markdown",
   "metadata": {},
   "source": [
    "# 1.Blood glucose levels for obese patients have a mean of 100 with a standard deviation of 15. A researcher thinks that a diet high in raw cornstarch will have a positive effect on blood glucose levels. A sample of 36 patients who have tried the raw cornstarch diet have a mean glucose level of 108. Test the hypothesis that the raw cornstarch had an effect or not."
   ]
  },
  {
   "cell_type": "code",
   "execution_count": 6,
   "metadata": {},
   "outputs": [
    {
     "name": "stdout",
     "output_type": "stream",
     "text": [
      "z-score is 3.2\n",
      "According to the z-table for the confidence we have taken we get z-value 1.64 and we got z value from z-test 3.2 which is greater than 1.64 which means it falls under critical region\n",
      "Therefore we reject null hypothesis i.e there is raw corn starch\n"
     ]
    }
   ],
   "source": [
    "import math\n",
    "population_mean=100\n",
    "standard_deviation=15\n",
    "sample_mean=108\n",
    "sample_count=36\n",
    "standard_error=standard_deviation/math.sqrt(sample_count)\n",
    "\"\"\"\n",
    "As we know the population standard deviation ,we have to perform z-test.\n",
    "h0:mean=100\n",
    "h1:mean!=100\n",
    "since confidence interval or significance level is not mentioned,we take it as 0.05 or 95%\n",
    "\"\"\"\n",
    "z=(sample_mean-population_mean)/standard_error\n",
    "\n",
    "#we know Z0.05=1.64(two tailed)\n",
    "#(so here the critical region is >1.64 and <-1.64)\n",
    "print('z-score is', z)\n",
    "print(\"According to the z-table for the confidence we have taken we get z-value 1.64 and we got z value from z-test 3.2 which is greater than 1.64 which means it falls under critical region\")\n",
    "print(\"Therefore we reject null hypothesis i.e there is raw corn starch\")"
   ]
  },
  {
   "cell_type": "code",
   "execution_count": null,
   "metadata": {},
   "outputs": [],
   "source": []
  },
  {
   "cell_type": "markdown",
   "metadata": {},
   "source": [
    "# 2.In one state, 52% of the voters are Republicans, and 48% are Democrats. In a second state, 47% of the voters are Republicans, and 53% are Democrats. Suppose a simple random sample of 100 voters are surveyed from each state. What is the probability that the survey will show a greater percentage of Republican voters in the second state than in the first state?"
   ]
  },
  {
   "cell_type": "code",
   "execution_count": 12,
   "metadata": {},
   "outputs": [
    {
     "name": "stdout",
     "output_type": "stream",
     "text": [
      "Mean difference : 0.050000000000000044\n",
      "Standard deviation : 0.07061869440877536\n",
      "Z-score(R1,R2) : -0.7080278164104213\n",
      "The probability that the survey will show a grater percantage of republicans in second state than in first state is 0.24\n"
     ]
    }
   ],
   "source": [
    "import math\n",
    "\"\"\"\n",
    "r1=proportion of republican voters in first state\n",
    "d1=proportion of democrat voters in first state\n",
    "r2=proportion of republican voters in second state\n",
    "d2=proportion of democrat voters in second state\n",
    "R1=proportion of republican voters in the sample in first state\n",
    "R2=proportion of republican voters in the sample in second state\n",
    "n1=no. of voters from first state\n",
    "n2=no. of voters from second state\n",
    "\"\"\"\n",
    "n1=100\n",
    "n2=100\n",
    "r1=0.52\n",
    "d1=0.48\n",
    "r2=0.47\n",
    "d2=0.53\n",
    "#Mean difference between the sample proportions(md),E(R1-R2)=r1-r2\n",
    "md=r1-r2\n",
    "std=math.sqrt(((r1*d1)/n1)+(r2*d2)/n2)\n",
    "print(\"Mean difference :\",md) \n",
    "print(\"Standard deviation :\",std)\n",
    "#In this problem we have to find the probability that the sample no. of republican voters in the first state should be less than the number in second state\n",
    "#i.e R1-R2 must be <0\n",
    "x=0\n",
    "#To do this we have to find z-score(R1,R2)\n",
    "z=x-md/std\n",
    "print(\"Z-score(R1,R2) :\",z)\n",
    "#Therefore z-score<-0.708 is 0.24\n",
    "print(\"The probability that the survey will show a grater percantage of republicans in second state than in first state is 0.24\")"
   ]
  },
  {
   "cell_type": "code",
   "execution_count": null,
   "metadata": {},
   "outputs": [],
   "source": []
  },
  {
   "cell_type": "markdown",
   "metadata": {},
   "source": [
    "# 3.You take the SAT and score 1100. The mean score for the SAT is 1026 and the standard deviation is 209. How well did you score on the test compared to the average test taker?"
   ]
  },
  {
   "cell_type": "code",
   "execution_count": 11,
   "metadata": {},
   "outputs": [
    {
     "name": "stdout",
     "output_type": "stream",
     "text": [
      "z-score : 0.35406698564593303\n",
      "The above z-score says that my score is 0.34 standard deviations above the mean\n",
      "63% of test takers scored below me\n"
     ]
    }
   ],
   "source": [
    "#my_score=1100\n",
    "x=1100\n",
    "population_mean=1026\n",
    "standard_deviation=209\n",
    "#since we know the population standard deviation,we need to find z-score\n",
    "z=(x-population_mean)/standard_deviation\n",
    "print(\"z-score :\",z)\n",
    "print(\"The above z-score says that my score is 0.34 standard deviations above the mean\")\n",
    "#From the z-table we have Z0.35=0.63 i.e.,\n",
    "print(\"63% of test takers scored below me\")"
   ]
  },
  {
   "cell_type": "code",
   "execution_count": null,
   "metadata": {},
   "outputs": [],
   "source": []
  },
  {
   "cell_type": "code",
   "execution_count": null,
   "metadata": {},
   "outputs": [],
   "source": []
  },
  {
   "cell_type": "code",
   "execution_count": null,
   "metadata": {},
   "outputs": [],
   "source": []
  }
 ],
 "metadata": {
  "kernelspec": {
   "display_name": "Python 3",
   "language": "python",
   "name": "python3"
  },
  "language_info": {
   "codemirror_mode": {
    "name": "ipython",
    "version": 3
   },
   "file_extension": ".py",
   "mimetype": "text/x-python",
   "name": "python",
   "nbconvert_exporter": "python",
   "pygments_lexer": "ipython3",
   "version": "3.7.6"
  }
 },
 "nbformat": 4,
 "nbformat_minor": 4
}
